{
  "cells": [
    {
      "cell_type": "markdown",
      "metadata": {
        "id": "view-in-github",
        "colab_type": "text"
      },
      "source": [
        "<a href=\"https://colab.research.google.com/github/Gus1917/ABNTGUSTAVO/blob/main/quickstarts/Image_out.ipynb\" target=\"_parent\"><img src=\"https://colab.research.google.com/assets/colab-badge.svg\" alt=\"Open In Colab\"/></a>"
      ]
    },
    {
      "cell_type": "markdown",
      "metadata": {
        "id": "0fgOxpmGrOvn"
      },
      "source": [
        "##### Copyright 2025 Google LLC."
      ]
    },
    {
      "cell_type": "code",
      "execution_count": 1,
      "metadata": {
        "cellView": "form",
        "id": "zxdx4xJxrTfP"
      },
      "outputs": [],
      "source": [
        "# @title Licensed under the Apache License, Version 2.0 (the \"License\");\n",
        "# you may not use this file except in compliance with the License.\n",
        "# You may obtain a copy of the License at\n",
        "#\n",
        "# https://www.apache.org/licenses/LICENSE-2.0\n",
        "#\n",
        "# Unless required by applicable law or agreed to in writing, software\n",
        "# distributed under the License is distributed on an \"AS IS\" BASIS,\n",
        "# WITHOUT WARRANTIES OR CONDITIONS OF ANY KIND, either express or implied.\n",
        "# See the License for the specific language governing permissions and\n",
        "# limitations under the License."
      ]
    },
    {
      "cell_type": "markdown",
      "metadata": {
        "id": "Qw6ttkOtrQ_D"
      },
      "source": [
        "# Gemini 2.5 Native Image generation"
      ]
    },
    {
      "cell_type": "code",
      "source": [],
      "metadata": {
        "id": "4Y2GZYUHLOmp"
      },
      "execution_count": null,
      "outputs": []
    },
    {
      "cell_type": "markdown",
      "metadata": {
        "id": "b0e4d036833c"
      },
      "source": [
        "This notebook will show you how to use the native Image-output feature of Gemini, using the model multimodal capabilities to output both images and texts, and iterate on an image through a discussion.\n",
        "\n",
        "This model is really good at:\n",
        "* **Maintaining character consistency**: Preserve a subject’s appearance across multiple generated images and scenes\n",
        "* **Performing intelligent editing**: Enable precise, prompt-based edits like inpainting (adding/changing objects), outpainting, and targeted transformations within an image\n",
        "* **Compose and merge images**: Intelligently combine elements from multiple images into a single, photorealistic composite\n",
        "* **Leverage multimodal reasoning**: Build features that understand visual context, such as following complex instructions on a hand-drawn diagram\n",
        "\n",
        "Following this guide, you'll learn how to do all those things and even more."
      ]
    },
    {
      "cell_type": "markdown",
      "metadata": {
        "id": "OMctVnBR0Ywa"
      },
      "source": [
        "<!-- Princing warning Badge -->\n",
        "<table>\n",
        "  <tr>\n",
        "    <!-- Emoji -->\n",
        "    <td bgcolor=\"#ffe680\">\n",
        "      <font size=30>⚠️</font>\n",
        "    </td>\n",
        "    <!-- Text Content Cell -->\n",
        "    <td bgcolor=\"#ffe680\">\n",
        "      <h3><font color=black><font color='#217bfe'><a href=\"https://ai.google.dev/gemini-api/docs/billing#enable-cloud-billing\">Enable billing</font></a> to use Image Generation. This is a pay-as-you-go feature (cf. <a href=\"https://ai.google.dev/pricing#gemini-2.5-flash-image-preview\"><font color='#217bfe'>pricing</font></a>).</font></h3>\n",
        "    </td>\n",
        "  </tr>\n",
        "</table>"
      ]
    },
    {
      "cell_type": "markdown",
      "metadata": {
        "id": "Fk2bSi7GgzEz"
      },
      "source": [
        "[Imagen](./Get_started_imagen.ipynb) models also offer image generation but in a slightly different way as the Image-out feature has been developed to work iteratively so if you want to make sure certain details are clearly followed, and you are ready to iterate on the image until it's exactly what you envision, Image-out is for you.\n",
        "\n",
        "Check the [documentation](https://ai.google.dev/gemini-api/docs/image-generation#choose-a-model) for more details on both features and some more advice on when to use each one."
      ]
    },
    {
      "cell_type": "markdown",
      "metadata": {
        "id": "Mfk6YY3G5kqp"
      },
      "source": [
        "## Setup"
      ]
    },
    {
      "cell_type": "markdown",
      "metadata": {
        "id": "d5027929de8f"
      },
      "source": [
        "### Install SDK"
      ]
    },
    {
      "cell_type": "code",
      "execution_count": 2,
      "metadata": {
        "id": "46zEFO2a9FFd",
        "colab": {
          "base_uri": "https://localhost:8080/"
        },
        "outputId": "d670a8f4-501c-4a82-9fb6-9cd8024b3bfc"
      },
      "outputs": [
        {
          "output_type": "stream",
          "name": "stdout",
          "text": [
            "\u001b[2K     \u001b[90m━━━━━━━━━━━━━━━━━━━━━━━━━━━━━━━━━━━━━━━━\u001b[0m \u001b[32m45.8/45.8 kB\u001b[0m \u001b[31m2.4 MB/s\u001b[0m eta \u001b[36m0:00:00\u001b[0m\n",
            "\u001b[2K   \u001b[90m━━━━━━━━━━━━━━━━━━━━━━━━━━━━━━━━━━━━━━━━\u001b[0m \u001b[32m238.5/238.5 kB\u001b[0m \u001b[31m11.8 MB/s\u001b[0m eta \u001b[36m0:00:00\u001b[0m\n",
            "\u001b[?25h"
          ]
        }
      ],
      "source": [
        "%pip install -U -q \"google-genai>=1.40.0\" # minimum version needed for the aspect ratio"
      ]
    },
    {
      "cell_type": "markdown",
      "metadata": {
        "id": "CTIfnvCn9HvH"
      },
      "source": [
        "### Setup your API key\n",
        "\n",
        "To run the following cell, your API key must be stored in a Colab Secret named `GOOGLE_API_KEY`. If you don't already have an API key, or you're not sure how to create a Colab Secret, see [Authentication](../quickstarts/Authentication.ipynb) for an example."
      ]
    },
    {
      "cell_type": "code",
      "execution_count": 3,
      "metadata": {
        "id": "A1pkoyZb9Jm3",
        "colab": {
          "base_uri": "https://localhost:8080/",
          "height": 305
        },
        "outputId": "31640b8e-161b-4603-bc64-d41a16a806dd"
      },
      "outputs": [
        {
          "output_type": "error",
          "ename": "SecretNotFoundError",
          "evalue": "Secret GOOGLE_API_KEY does not exist.",
          "traceback": [
            "\u001b[0;31m---------------------------------------------------------------------------\u001b[0m",
            "\u001b[0;31mSecretNotFoundError\u001b[0m                       Traceback (most recent call last)",
            "\u001b[0;32m/tmp/ipython-input-2448054115.py\u001b[0m in \u001b[0;36m<cell line: 0>\u001b[0;34m()\u001b[0m\n\u001b[1;32m      1\u001b[0m \u001b[0;32mfrom\u001b[0m \u001b[0mgoogle\u001b[0m\u001b[0;34m.\u001b[0m\u001b[0mcolab\u001b[0m \u001b[0;32mimport\u001b[0m \u001b[0muserdata\u001b[0m\u001b[0;34m\u001b[0m\u001b[0;34m\u001b[0m\u001b[0m\n\u001b[1;32m      2\u001b[0m \u001b[0;34m\u001b[0m\u001b[0m\n\u001b[0;32m----> 3\u001b[0;31m \u001b[0mGOOGLE_API_KEY\u001b[0m \u001b[0;34m=\u001b[0m \u001b[0muserdata\u001b[0m\u001b[0;34m.\u001b[0m\u001b[0mget\u001b[0m\u001b[0;34m(\u001b[0m\u001b[0;34m'GOOGLE_API_KEY'\u001b[0m\u001b[0;34m)\u001b[0m\u001b[0;34m\u001b[0m\u001b[0;34m\u001b[0m\u001b[0m\n\u001b[0m",
            "\u001b[0;32m/usr/local/lib/python3.12/dist-packages/google/colab/userdata.py\u001b[0m in \u001b[0;36mget\u001b[0;34m(key)\u001b[0m\n\u001b[1;32m     66\u001b[0m     \u001b[0;32mraise\u001b[0m \u001b[0mTimeoutException\u001b[0m\u001b[0;34m(\u001b[0m\u001b[0mkey\u001b[0m\u001b[0;34m)\u001b[0m\u001b[0;34m\u001b[0m\u001b[0;34m\u001b[0m\u001b[0m\n\u001b[1;32m     67\u001b[0m   \u001b[0;32mif\u001b[0m \u001b[0;32mnot\u001b[0m \u001b[0mresp\u001b[0m\u001b[0;34m.\u001b[0m\u001b[0mget\u001b[0m\u001b[0;34m(\u001b[0m\u001b[0;34m'exists'\u001b[0m\u001b[0;34m,\u001b[0m \u001b[0;32mFalse\u001b[0m\u001b[0;34m)\u001b[0m\u001b[0;34m:\u001b[0m\u001b[0;34m\u001b[0m\u001b[0;34m\u001b[0m\u001b[0m\n\u001b[0;32m---> 68\u001b[0;31m     \u001b[0;32mraise\u001b[0m \u001b[0mSecretNotFoundError\u001b[0m\u001b[0;34m(\u001b[0m\u001b[0mkey\u001b[0m\u001b[0;34m)\u001b[0m\u001b[0;34m\u001b[0m\u001b[0;34m\u001b[0m\u001b[0m\n\u001b[0m\u001b[1;32m     69\u001b[0m   \u001b[0;32mif\u001b[0m \u001b[0;32mnot\u001b[0m \u001b[0mresp\u001b[0m\u001b[0;34m.\u001b[0m\u001b[0mget\u001b[0m\u001b[0;34m(\u001b[0m\u001b[0;34m'access'\u001b[0m\u001b[0;34m,\u001b[0m \u001b[0;32mFalse\u001b[0m\u001b[0;34m)\u001b[0m\u001b[0;34m:\u001b[0m\u001b[0;34m\u001b[0m\u001b[0;34m\u001b[0m\u001b[0m\n\u001b[1;32m     70\u001b[0m     \u001b[0;32mraise\u001b[0m \u001b[0mNotebookAccessError\u001b[0m\u001b[0;34m(\u001b[0m\u001b[0mkey\u001b[0m\u001b[0;34m)\u001b[0m\u001b[0;34m\u001b[0m\u001b[0;34m\u001b[0m\u001b[0m\n",
            "\u001b[0;31mSecretNotFoundError\u001b[0m: Secret GOOGLE_API_KEY does not exist."
          ]
        }
      ],
      "source": [
        "from google.colab import userdata\n",
        "\n",
        "GOOGLE_API_KEY = userdata.get('GOOGLE_API_KEY')"
      ]
    },
    {
      "cell_type": "markdown",
      "metadata": {
        "id": "3Hx_Gw9i0Yuv"
      },
      "source": [
        "### Initialize SDK client\n",
        "\n",
        "With the new SDK you now only need to initialize a client with your API key (or OAuth if using Vertex AI). The model is now set in each call."
      ]
    },
    {
      "cell_type": "code",
      "execution_count": null,
      "metadata": {
        "id": "HghvVpbU0Uap"
      },
      "outputs": [],
      "source": [
        "from google import genai\n",
        "from google.genai import types\n",
        "\n",
        "client = genai.Client(api_key=GOOGLE_API_KEY)"
      ]
    },
    {
      "cell_type": "markdown",
      "metadata": {
        "id": "QOov6dpG99rY"
      },
      "source": [
        "### Select a model\n",
        "\n",
        "`gemini-2.5-flash-image` is the latest and the state-of-the-art Gemini model capable of generating images."
      ]
    },
    {
      "cell_type": "code",
      "execution_count": null,
      "metadata": {
        "id": "27Fikag0xSaB"
      },
      "outputs": [],
      "source": [
        "MODEL_ID = \"gemini-2.5-flash-image\""
      ]
    },
    {
      "cell_type": "markdown",
      "metadata": {
        "id": "56Dvz_98TDju"
      },
      "source": [
        "### Utils"
      ]
    },
    {
      "cell_type": "markdown",
      "metadata": {
        "id": "BvSWx_p2tuDF"
      },
      "source": [
        "These two functions will help you manage the outputs of the model.\n",
        "\n",
        "Compared to when you simply generate text, this time the output will contain multiple parts, some one them being text while others will be images. You'll also have to take into account that there could be multiple images so you cannot stop at the first one.\n"
      ]
    },
    {
      "cell_type": "code",
      "execution_count": null,
      "metadata": {
        "id": "zpRBiaO_icWi"
      },
      "outputs": [],
      "source": [
        "from IPython.display import display, Markdown, Image\n",
        "import pathlib\n",
        "\n",
        "# Loop over all parts and display them either as text or images\n",
        "def display_response(response):\n",
        "  for part in response.parts:\n",
        "    if part.text:\n",
        "      display(Markdown(part.text))\n",
        "    elif image:= part.as_image():\n",
        "      image.show()\n",
        "\n",
        "# Save the image\n",
        "# If there are multiple ones, only the last one will be saved\n",
        "def save_image(response, path):\n",
        "  for part in response.parts:\n",
        "    if image:= part.as_image():\n",
        "      image.save(path)"
      ]
    },
    {
      "cell_type": "markdown",
      "metadata": {
        "id": "M2i8O36nTHI1"
      },
      "source": [
        "## Generate images\n",
        "\n",
        "Using the Gemini Image generation model is the same as using any Gemini model: you simply call `generate_content`.\n",
        "\n",
        "You can set the `response_modalities` to indicate to the model that you are expecting text and images in the output but it's optional as this is expected with this model.\n",
        "\n",
        "If you just want an image and don't need text, you can set `response_modalities=['Image']`."
      ]
    },
    {
      "cell_type": "code",
      "execution_count": null,
      "metadata": {
        "id": "NZsZMcA-iPSj"
      },
      "outputs": [],
      "source": [
        "prompt = 'Create a photorealistic image of a siamese cat with a green left eye and a blue right one and red patches on his face and a black and pink nose' # @param {type:\"string\"}\n",
        "\n",
        "response = client.models.generate_content(\n",
        "    model=MODEL_ID,\n",
        "    contents=prompt,\n",
        "    config=types.GenerateContentConfig(\n",
        "        response_modalities=['Text', 'Image'] # response_modalities=['Image'] if you only want the images\n",
        "    )\n",
        ")\n",
        "\n",
        "display_response(response)\n",
        "save_image(response, 'cat.png')"
      ]
    },
    {
      "cell_type": "markdown",
      "metadata": {
        "id": "5nlhVQCuT6DS"
      },
      "source": [
        "## Edit images\n",
        "\n",
        "You can also do image editing, simply pass the original image as part of the prompt. Don't limit yourself to simple edit, Gemini is able to keep the character consistency and reprensent you character in different behaviors or places."
      ]
    },
    {
      "cell_type": "code",
      "execution_count": null,
      "metadata": {
        "id": "HjIBLjr-il1y"
      },
      "outputs": [],
      "source": [
        "import PIL\n",
        "\n",
        "text_prompt = \"Create a side view picture of that cat, in a tropical forest, eating a nano-banana, under the stars\" # @param {type:\"string\"}\n",
        "\n",
        "response = client.models.generate_content(\n",
        "    model=MODEL_ID,\n",
        "    contents=[\n",
        "        text_prompt,\n",
        "        PIL.Image.open('cat.png')\n",
        "    ]\n",
        ")\n",
        "\n",
        "display_response(response)\n",
        "save_image(response, 'cat_tropical.png')"
      ]
    },
    {
      "cell_type": "markdown",
      "metadata": {
        "id": "a6jMLoGBnU85"
      },
      "source": [
        "As you can see, you can clearly recognize the same cat with its peculiar nose and eyes."
      ]
    },
    {
      "cell_type": "markdown",
      "metadata": {
        "id": "snNB0mzNtJsO"
      },
      "source": [
        "## Control aspect ratio\n",
        "\n",
        "You can control the aspect ratio of the output image. The model's primary behavior is to match the size of your input images; otherwise, it defaults to generating square (1:1) images.\n",
        "\n",
        "To do so, add an `aspect_ratio` value to the `image_config` as you can see in the cell below. The different ratios available and the size of the image generated are listed in this table:\n",
        "\n",
        "| Aspect ratio | Resolution | Tokens |\n",
        "| --- | --- | --- |\n",
        "| 1:1 | 1024x1024 | 1290 |\n",
        "| 2:3 | 832x1248 | 1290 |\n",
        "| 3:2 | 1248x832 | 1290 |\n",
        "| 3:4 | 864x1184 | 1290 |\n",
        "| 4:3 | 1184x864 | 1290 |\n",
        "| 4:5 | 896x1152 | 1290 |\n",
        "| 5:4 | 1152x896 | 1290 |\n",
        "| 9:16 | 768x1344 | 1290 |\n",
        "| 16:9 | 1344x768 | 1290 |\n",
        "| 21:9 | 1536x672 | 1290 |\n",
        "\n",
        "Note that the number of tokens stays the same for all aspect ratio."
      ]
    },
    {
      "cell_type": "code",
      "execution_count": null,
      "metadata": {
        "id": "Mzlep2XSn8xe"
      },
      "outputs": [],
      "source": [
        "import PIL\n",
        "\n",
        "text_prompt = \"Now the cat should keep the same attitude, but be well dressed in fancy restaurant and eat a fancy nano banana.\" # @param {type:\"string\"}\n",
        "\n",
        "response = client.models.generate_content(\n",
        "    model=MODEL_ID,\n",
        "    contents=[\n",
        "        text_prompt,\n",
        "        PIL.Image.open('cat_tropical.png')\n",
        "    ],\n",
        "    config=types.GenerateContentConfig(\n",
        "        response_modalities=[\"IMAGE\"],\n",
        "        image_config=types.ImageConfig(\n",
        "            aspect_ratio=\"16:9\",\n",
        "        )\n",
        "    )\n",
        "\n",
        ")\n",
        "\n",
        "display_response(response)\n",
        "save_image(response, 'cat_resaurant.png')"
      ]
    },
    {
      "cell_type": "markdown",
      "metadata": {
        "id": "hQ_uiJOY5Sy9"
      },
      "source": [
        "## Get multiple images (ex: tell stories)\n",
        "\n",
        "So far you've only generated one image per call, but you can request way more than that! Let's try a baking receipe or telling a story."
      ]
    },
    {
      "cell_type": "code",
      "execution_count": null,
      "metadata": {
        "id": "OaRYCCC5L6VL"
      },
      "outputs": [],
      "source": [
        "prompt = \"Show me how to bake macarons with images\" # @param [\"Show me how to bake macarons with images\",\"Create a beautifully entertaining 8 part story with 8 images with two blue characters and their adventures in the 1960s music scene. The story is thrilling throughout with emotional highs and lows and ending on a great twist and high note. Do not include any words or text on the images but tell the story purely through the imagery itself. \"] {\"allow-input\":true}\n",
        "\n",
        "response = client.models.generate_content(\n",
        "    model=MODEL_ID,\n",
        "    contents=prompt,\n",
        ")\n",
        "\n",
        "display_response(response)\n",
        "\n",
        "# Be careful; long output (see below)"
      ]
    },
    {
      "cell_type": "markdown",
      "metadata": {
        "id": "wnwSzvCTltWd"
      },
      "source": [
        "The output of the previous code cell could not be saved in the notebook without making it too big to be managed by Github, but here are some examples of what it should look like when you run it when asking for a story, or for a baking receipe:\n",
        "\n",
        "----------\n",
        "**Prompt**: *Create a beautifully entertaining 8 part story with 8 images with two blue characters and their adventures in the 1960s music scene. The story is thrilling throughout with emotional highs and lows and ending on a great twist and high note. Do not include any words or text on the images but tell the story purely through the imagery itself.*\n",
        "![Azure tone story](https://storage.googleapis.com/generativeai-downloads/images/azuretones.png)\n",
        "(Images have been stitched together)\n",
        "\n",
        "----------\n",
        "**Prompt**: *Show me how to bake macarons with images*\n",
        "\n",
        "\n",
        "That sounds delicious! Here's a simplified guide on how to bake macarons. While it can be a bit tricky, practice makes perfect!\n",
        "\n",
        "**Ingredients you'll need:**\n",
        "\n",
        "*   **For the Macaron Shells:**\n",
        "    *   100g almond flour\n",
        "    *   100g powdered sugar\n",
        "    *   75g granulated sugar\n",
        "    *   2 egg whites (aged for a day or two at room temp, if possible, for better stability)\n",
        "    *   Pinch of salt (optional)\n",
        "    *   Food coloring (gel or powder, not liquid)\n",
        "\n",
        "*   **For the Filling:** (Buttercream, ganache, or jam are popular choices)\n",
        "\n",
        "---\n",
        "\n",
        "**Step 1: Prepare your dry ingredients.**\n",
        "Sift together the almond flour and powdered sugar into a bowl. This step is crucial for achieving smooth macaron shells, as it removes any lumps.\n",
        "\n",
        "\n",
        "![Macaron prepartation step 1](https://storage.googleapis.com/generativeai-downloads/images/macaron_step1.png)\n",
        "\n",
        "**Step 2: Make the meringue.**\n",
        "In a separate, clean bowl, beat the egg whites with a pinch of salt (if using) until foamy. Gradually add the granulated sugar, continuing to beat until you achieve stiff, glossy peaks. If you're using food coloring, add it now. The meringue should be firm enough that you can turn the bowl upside down without it falling out.\n",
        "\n",
        "![Macaron prepartation step 2](https://storage.googleapis.com/generativeai-downloads/images/macaron_step2.png)\n",
        "\n",
        "**Step 3: Combine dry ingredients with meringue (Macaronage).**\n",
        "Gently fold the sifted almond flour and powdered sugar into the meringue in two or three additions. This is called \"macaronage\" and is the most critical step. You want to mix until the batter flows like \"lava\" or a slowly ribboning consistency when you lift your spatula. Be careful not to overmix, or your macarons will be flat; under-mixing will result in lumpy shells.\n",
        "\n",
        "![Macaron prepartation step 3](https://storage.googleapis.com/generativeai-downloads/images/macaron_step3.png)\n",
        "\n",
        "**Step 4: Pipe the macarons.**\n",
        "Transfer the batter to a piping bag fitted with a round tip. Pipe uniform circles onto baking sheets lined with parchment paper or silicone mats. Leave some space between each macaron.\n",
        "\n",
        "![Macaron prepartation step 4](https://storage.googleapis.com/generativeai-downloads/images/macaron_step4.png)\n",
        "\n",
        "**Step 5: Tap and Rest.**\n",
        "Firmly tap the baking sheets on your counter several times to release any air bubbles. Use a toothpick to pop any remaining bubbles. This helps create smooth tops and the characteristic \"feet.\" Let the piped macarons rest at room temperature for 30-60 minutes, or until a skin forms on top. When you gently touch a shell, it shouldn't feel sticky. This \"drying\" step is essential for the feet to develop properly.\n",
        "\n",
        "![Macaron prepartation step 5](https://storage.googleapis.com/generativeai-downloads/images/macaron_step5.png)\n",
        "\n",
        "**Step 6: Bake the macarons.**\n",
        "Preheat your oven to 300°F (150°C). Bake one tray at a time for 12-15 minutes. The exact time can vary by oven. They are done when they have developed \"feet\" and don't wobble when gently touched.\n",
        "\n",
        "**Step 7: Cool and Fill.**\n",
        "Once baked, let the macaron shells cool completely on the baking sheet before carefully peeling them off. This prevents them from breaking.  Then, match them up by size and pipe or spread your chosen filling onto one shell before sandwiching it with another.\n",
        "\n",
        "![Macaron prepartation step 7](https://storage.googleapis.com/generativeai-downloads/images/macaron_step7.png)\n",
        "\n",
        "Finally, let them mature in the refrigerator for at least 24 hours. This allows the flavors to meld and the shells to soften to the perfect chewy consistency.\n",
        "\n",
        "Enjoy your homemade macarons!\n",
        "\n",
        "-----"
      ]
    },
    {
      "cell_type": "markdown",
      "metadata": {
        "id": "0sIquv-1lAzn"
      },
      "source": [
        "## Chat mode (recommended method)\n",
        "\n",
        "So far you've used unary calls, but Image-out is actually made to work better with chat mode as it's easier to iterate on an image turn after turn."
      ]
    },
    {
      "cell_type": "code",
      "execution_count": null,
      "metadata": {
        "id": "8DxgcoGplCY6"
      },
      "outputs": [],
      "source": [
        "chat = client.chats.create(\n",
        "    model=MODEL_ID,\n",
        ")"
      ]
    },
    {
      "cell_type": "code",
      "execution_count": null,
      "metadata": {
        "id": "05m25YRrB9Wg"
      },
      "outputs": [],
      "source": [
        "message = \"create a image of a plastic toy fox figurine in a kid's bedroom, it can have accessories but no weapon\" # @param {type:\"string\"}\n",
        "\n",
        "response = chat.send_message(message)\n",
        "display_response(response)\n",
        "save_image(response, \"figurine.png\")"
      ]
    },
    {
      "cell_type": "code",
      "execution_count": null,
      "metadata": {
        "id": "uJT8gvpIyLH9"
      },
      "outputs": [],
      "source": [
        "message = \"Add a blue planet on the figuring's helmet or hat (add one if needed)\" # @param {type:\"string\"}\n",
        "response = chat.send_message(message)\n",
        "display_response(response)"
      ]
    },
    {
      "cell_type": "code",
      "execution_count": null,
      "metadata": {
        "id": "MKQgIrOtyLH-"
      },
      "outputs": [],
      "source": [
        "message = 'Move that figurine on a beach' # @param {type:\"string\"}\n",
        "response = chat.send_message(message)\n",
        "display_response(response)"
      ]
    },
    {
      "cell_type": "code",
      "execution_count": null,
      "metadata": {
        "id": "dzQWC-SWuxFI"
      },
      "outputs": [],
      "source": [
        "message = 'Now it should be base-jumping from a spaceship with a wingsuit' # @param {type:\"string\"}\n",
        "response = chat.send_message(message)\n",
        "display_response(response)"
      ]
    },
    {
      "cell_type": "code",
      "execution_count": null,
      "metadata": {
        "id": "S_JEzQsOuxPy"
      },
      "outputs": [],
      "source": [
        "message = 'Cooking a barbecue with an apron' # @param {type:\"string\"}\n",
        "response = chat.send_message(message)\n",
        "display_response(response)"
      ]
    },
    {
      "cell_type": "code",
      "execution_count": null,
      "metadata": {
        "id": "5OJ0O7R-uxM1"
      },
      "outputs": [],
      "source": [
        "message = 'What about chilling in a spa?' # @param {type:\"string\"}\n",
        "response = chat.send_message(message)\n",
        "display_response(response)"
      ]
    },
    {
      "cell_type": "markdown",
      "metadata": {
        "id": "01dArit1ArQZ"
      },
      "source": [
        "## Mix multiple pictures"
      ]
    },
    {
      "cell_type": "markdown",
      "metadata": {
        "id": "coBqmo2x0b9k"
      },
      "source": [
        "You can also mix multiple images (up to 3), either because there are multiple characters in your image, or because you want to hightlight a certain product, or set the background."
      ]
    },
    {
      "cell_type": "code",
      "execution_count": null,
      "metadata": {
        "id": "of4Ljm3KAvWg"
      },
      "outputs": [],
      "source": [
        "import PIL\n",
        "\n",
        "text_prompt = \"Create a picture of that figurine riding that cat in a fantasy world.\" # @param {type:\"string\"}\n",
        "\n",
        "response = client.models.generate_content(\n",
        "    model=MODEL_ID,\n",
        "    contents=[\n",
        "        text_prompt,\n",
        "        PIL.Image.open('cat.png'),\n",
        "        PIL.Image.open('figurine.png')\n",
        "    ],\n",
        ")\n",
        "\n",
        "display_response(response)"
      ]
    },
    {
      "cell_type": "markdown",
      "metadata": {
        "id": "CjaHs2QM0jka"
      },
      "source": [
        "## Other cool prompts to test"
      ]
    },
    {
      "cell_type": "markdown",
      "metadata": {
        "id": "ooqUNSC05gyU"
      },
      "source": [
        "### Back to the 80s"
      ]
    },
    {
      "cell_type": "code",
      "execution_count": null,
      "metadata": {
        "cellView": "form",
        "id": "91zTE7a85kpj"
      },
      "outputs": [],
      "source": [
        "text_prompt = \"Create a photograph of the person in this image as if they were living in the 1980s. The photograph should capture the distinct fashion, hairstyles, and overall atmosphere of that time period.\" # @param {type:\"string\"}\n",
        "\n",
        "response = client.models.generate_content(\n",
        "    model=MODEL_ID,\n",
        "    contents=[\n",
        "        text_prompt,\n",
        "        PIL.Image.open('cat.png')\n",
        "    ]\n",
        ")\n",
        "\n",
        "display_response(response)\n",
        "save_image(response, 'cat_80s.png')"
      ]
    },
    {
      "cell_type": "markdown",
      "metadata": {
        "id": "sZiw8lLM0eCk"
      },
      "source": [
        "### Mini-figurine"
      ]
    },
    {
      "cell_type": "code",
      "execution_count": null,
      "metadata": {
        "cellView": "form",
        "id": "ZPVgFWuh6HW1"
      },
      "outputs": [],
      "source": [
        "text_prompt = \"create a 1/7 scale commercialized figurine of the characters in the picture, in a realistic style, in a real environment. The figurine is placed on a computer desk. The figurine has a round transparent acrylic base, with no text on the base. The content on the computer screen is a 3D modeling process of this figurine. Next to the computer screen is a toy packaging box, designed in a style reminiscent of high-quality collectible figures, printed with original artwork. The packaging features two-dimensional flat illustrations.\" # @param {type:\"string\"}\n",
        "\n",
        "response = client.models.generate_content(\n",
        "    model=MODEL_ID,\n",
        "    contents=[\n",
        "        text_prompt,\n",
        "        PIL.Image.open('cat_80s.png')\n",
        "    ]\n",
        ")\n",
        "\n",
        "display_response(response)"
      ]
    },
    {
      "cell_type": "markdown",
      "metadata": {
        "id": "kA1Mjcdp6IWD"
      },
      "source": [
        "### Stickers"
      ]
    },
    {
      "cell_type": "code",
      "execution_count": null,
      "metadata": {
        "cellView": "form",
        "id": "oGdKclwr6IWE"
      },
      "outputs": [],
      "source": [
        "text_prompt = \"Create a single sticker in the distinct Pop Art style. The image should feature bold, thick black outlines around all figures, objects, and text. Utilize a limited, flat color palette consisting of vibrant primary and secondary colors, applied in unshaded blocks, but maintain the person skin tone. Incorporate visible Ben-Day dots or halftone patterns to create shading, texture, and depth. The subject should display a dramatic expression. Include stylized text within speech bubbles or dynamic graphic shapes to represent sound effects (onomatopoeia). The overall aesthetic should be clean, graphic, and evoke a mass-produced, commercial art sensibility with a polished finish. The user's face from the uploaded photo must be the main character, ideally with an interesting outline shape that is not square or circular but closer to a dye-cut pattern\" # @param {type:\"string\"}\n",
        "\n",
        "response = client.models.generate_content(\n",
        "    model=MODEL_ID,\n",
        "    contents=[\n",
        "        text_prompt,\n",
        "        PIL.Image.open('cat_80s.png')\n",
        "    ]\n",
        ")\n",
        "\n",
        "display_response(response)"
      ]
    },
    {
      "cell_type": "markdown",
      "metadata": {
        "id": "iE1PB-Yg6IcJ"
      },
      "source": [
        "### Multi-image fusion\n",
        "Tip: Combine multiple images into a single ‘collage’ first if you need to go beyond the image upload limit.\n"
      ]
    },
    {
      "cell_type": "code",
      "execution_count": null,
      "metadata": {
        "cellView": "form",
        "id": "-2ocZIty6IcJ"
      },
      "outputs": [],
      "source": [
        "text_prompt = \"Combine everything in these images to create a 60s inspired fashion editorial photoshoot\" # @param {type:\"string\"}\n",
        "\n",
        "!wget \"https://storage.googleapis.com/generativeai-downloads/images/Multiple_images.png\" -O \"Multiple_images.png\" -q\n",
        "display(Image('Multiple_images.png'))\n",
        "\n",
        "response = client.models.generate_content(\n",
        "    model=MODEL_ID,\n",
        "    contents=[\n",
        "        text_prompt,\n",
        "        PIL.Image.open('cat.png'),\n",
        "        PIL.Image.open('Multiple_images.png')\n",
        "    ]\n",
        ")\n",
        "\n",
        "display_response(response)"
      ]
    },
    {
      "cell_type": "markdown",
      "metadata": {
        "id": "X1bSws1H6Iix"
      },
      "source": [
        "### Colorize black and white images"
      ]
    },
    {
      "cell_type": "code",
      "execution_count": null,
      "metadata": {
        "cellView": "form",
        "id": "SJ89JHk76Iiy"
      },
      "outputs": [],
      "source": [
        "text_prompt = \"Restore and colorize this image from 1932.\" # @param {type:\"string\"}\n",
        "\n",
        "# Thanks to the wikimedia foundation for hosting this historical picture\n",
        "!wget \"https://upload.wikimedia.org/wikipedia/commons/thumb/9/9c/Lunch_atop_a_Skyscraper_-_Charles_Clyde_Ebbets.jpg/1374px-Lunch_atop_a_Skyscraper_-_Charles_Clyde_Ebbets.jpg\" -O \"Lunch_atop_a_Skyscraper.jpg\" -q\n",
        "display(Image('Lunch_atop_a_Skyscraper.jpg'))\n",
        "\n",
        "response = client.models.generate_content(\n",
        "    model=MODEL_ID,\n",
        "    contents=[\n",
        "        text_prompt,\n",
        "        PIL.Image.open('Lunch_atop_a_Skyscraper.jpg')\n",
        "    ]\n",
        ")\n",
        "\n",
        "display_response(response)"
      ]
    },
    {
      "cell_type": "markdown",
      "metadata": {
        "id": "dw58ws92-dWr"
      },
      "source": [
        "### Google Map transformation\n"
      ]
    },
    {
      "cell_type": "code",
      "execution_count": null,
      "metadata": {
        "cellView": "form",
        "id": "noElHpkA-dWr"
      },
      "outputs": [],
      "source": [
        "text_prompt = \"Show me what we see from the red arrow\" # @param {type:\"string\"}\n",
        "\n",
        "!wget \"https://storage.googleapis.com/generativeai-downloads/images/Mont_St_Michel.png\" -O \"Mont_St_Michel.png\" -q\n",
        "display(Image('Mont_St_Michel.png'))\n",
        "\n",
        "response = client.models.generate_content(\n",
        "    model=MODEL_ID,\n",
        "    contents=[\n",
        "        text_prompt,\n",
        "        PIL.Image.open('Mont_St_Michel.png')\n",
        "    ]\n",
        ")\n",
        "\n",
        "display_response(response)"
      ]
    },
    {
      "cell_type": "markdown",
      "metadata": {
        "id": "gW9r0sb4_JNZ"
      },
      "source": [
        "### Isometric landmark\n"
      ]
    },
    {
      "cell_type": "code",
      "execution_count": null,
      "metadata": {
        "cellView": "form",
        "id": "rbpCT8hB_JNa"
      },
      "outputs": [],
      "source": [
        "text_prompt = \"Take this location and make the landmark an isometric image (building only), in the style of the game Theme Park.\" # @param {type:\"string\"}\n",
        "\n",
        "response = client.models.generate_content(\n",
        "    model=MODEL_ID,\n",
        "    contents=[\n",
        "        text_prompt,\n",
        "        PIL.Image.open('Mont_St_Michel.png')\n",
        "    ]\n",
        ")\n",
        "\n",
        "display_response(response)"
      ]
    },
    {
      "cell_type": "markdown",
      "metadata": {
        "id": "1tOAV2qGtjek"
      },
      "source": [
        "## Next Steps\n",
        "### Useful documentation references:\n",
        "\n",
        "Check the [documentation](https://ai.google.dev/gemini-api/docs/image-generation#gemini) for more details about the image generation capabilities of the model. To improve your prompting skills, check out the [prompt guide](https://ai.google.dev/gemini-api/docs/image-generation#prompt-guide) for great advices on creating your prompts.\n",
        "\n",
        "### Check a more complex example\n",
        "[Illustrate a book](../examples/Book_illustration.ipynb): Use Gemini to create illustration for an open-source book and audiobook\n",
        "\n",
        "### Play with the AI Studio apps\n",
        "\n",
        "Theses 5 AI Studio apps are all great showcases of Gemini image generation capabilities:\n",
        "* [Past Forward](https://aistudio.google.com/apps/bundled/past_forward) lets you travel through time\n",
        "* [Home Canvas](https://aistudio.google.com/apps/bundled/home_canvas) lets your try out new furniture\n",
        "* [Gembooth](https://aistudio.google.com/apps/bundled/gembooth) places you into a comic book or a Renaissance painting\n",
        "* [Gemini Co-drawing](https://aistudio.google.com/apps/bundled/codrawing) lets you draw alongside with Gemini\n",
        "* [Pixshop](https://aistudio.google.com/apps/bundled/pixshop), an AI-powered image editor\n",
        "\n",
        "### Check-out Imagen as well:\n",
        "The [Imagen](https://ai.google.dev/gemini-api/docs/imagen) model is another way to generate images. Check out the [Get Started with Imagen notebook](./Get_started_imagen.ipynb) to start playing with it too.\n",
        "\n",
        "### Continue your discovery of the Gemini API\n",
        "\n",
        "Gemini is not only good at generating images, but also at understanding them. Check the [Spatial understanding](./Spatial_understanding.ipynb) guide for an introduction on those capabilities, and the [Video understanding](./Video_understanding.ipynb) one for video examples.\n"
      ]
    }
  ],
  "metadata": {
    "colab": {
      "collapsed_sections": [
        "0fgOxpmGrOvn",
        "Mfk6YY3G5kqp"
      ],
      "name": "Image_out.ipynb",
      "provenance": [],
      "include_colab_link": true
    },
    "kernelspec": {
      "display_name": "Python 3",
      "name": "python3"
    }
  },
  "nbformat": 4,
  "nbformat_minor": 0
}